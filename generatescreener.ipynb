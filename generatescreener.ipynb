{
  "nbformat": 4,
  "nbformat_minor": 0,
  "metadata": {
    "colab": {
      "private_outputs": true,
      "provenance": []
    },
    "kernelspec": {
      "name": "python3",
      "display_name": "Python 3"
    },
    "language_info": {
      "name": "python"
    }
  },
  "cells": [
    {
      "cell_type": "code",
      "execution_count": null,
      "metadata": {
        "id": "KlZOXvab_y7U"
      },
      "outputs": [],
      "source": [
        "import yfinance as yf\n",
        "import pandas as pd\n",
        "import numpy as np"
      ]
    },
    {
      "cell_type": "code",
      "source": [
        "url = 'https://raw.githubusercontent.com/nausya/sahamku/main/devhunter.csv'\n",
        "kode = pd.read_csv(url)\n",
        "kode\n",
        "#kode = kode['Kode']+'.JK'\n",
        "#saham = kode.values.tolist()\n",
        "#saham"
      ],
      "metadata": {
        "id": "pbpt0andAVNi"
      },
      "execution_count": null,
      "outputs": []
    },
    {
      "cell_type": "code",
      "source": [
        "screensaham = []\n",
        "for stock in kodesaham:\n",
        "        info = yf.Ticker(stock).info\n",
        "        kode = kodesaham['Kode']+'.JK'\n",
        "        now = info.get('currentPrice')\n",
        "        l = info.get('fiftyTwoWeekLow')\n",
        "        h = info.get('fiftyTwoWeekHigh')\n",
        "        hr = info.get('fiftyDayAverage')\n",
        "        bl = info.get('twoHundredDayAverage')\n",
        "        dte = info.get('debtToEquity')\n",
        "        pbv = info.get('priceToBook')\n",
        "        eg4 = info.get('earningsQuarterlyGrowth')\n",
        "        rg = info.get('revenueGrowth')\n",
        "        pm = info.get('profitMargins')\n",
        "        opm = info.get('operatingMargins')\n",
        "        etr = info.get('enterpriseToRevenue')\n",
        "        tcs = info.get('totalCashPerShare')\n",
        "        avol = info.get('averageDailyVolume10Day')\n",
        "        dev = info.get('payoutRatio')\n",
        "        roe = info.get('returnOnEquity')\n",
        "        adev = info.get('fiveYearAvgDividendYield')\n",
        "        rekom = info.get('recommendationKey')\n",
        "        screensaham.append({'kode':kode,'now':now,'l':l,'h':h,'hr':hr,'bl':bl,'dte':dte,'pbv':pbv,'eg4':eg4,'rg':rg,'pm':pm,'opm':opm,'etr':etr,'tcs':tcs,'avol':avol,'dev':dev,'roe':roe,'adev':adev,'rekom':rekom})\n",
        "df = pd.DataFrame(screensaham)\n",
        "df = df.fillna(0)\n",
        "df"
      ],
      "metadata": {
        "id": "rilKv-4iKn3u"
      },
      "execution_count": null,
      "outputs": []
    },
    {
      "cell_type": "code",
      "source": [],
      "metadata": {
        "id": "6csvZpjoCTu4"
      },
      "execution_count": null,
      "outputs": []
    }
  ]
}